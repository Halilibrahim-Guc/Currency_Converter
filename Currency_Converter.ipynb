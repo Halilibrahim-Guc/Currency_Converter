{
  "nbformat": 4,
  "nbformat_minor": 0,
  "metadata": {
    "colab": {
      "provenance": [],
      "authorship_tag": "ABX9TyPBi+QaHZHLEdD/wcyydhKW",
      "include_colab_link": true
    },
    "kernelspec": {
      "name": "python3",
      "display_name": "Python 3"
    },
    "language_info": {
      "name": "python"
    }
  },
  "cells": [
    {
      "cell_type": "markdown",
      "metadata": {
        "id": "view-in-github",
        "colab_type": "text"
      },
      "source": [
        "<a href=\"https://colab.research.google.com/github/Halilibrahim-Guc/Currency_Converter/blob/main/Currency_Converter.ipynb\" target=\"_parent\"><img src=\"https://colab.research.google.com/assets/colab-badge.svg\" alt=\"Open In Colab\"/></a>"
      ]
    },
    {
      "cell_type": "code",
      "execution_count": 34,
      "metadata": {
        "colab": {
          "base_uri": "https://localhost:8080/"
        },
        "id": "wOJD2Y9BC65Y",
        "outputId": "f5dc819f-7820-4986-896e-7087d5c02a67"
      },
      "outputs": [
        {
          "output_type": "stream",
          "name": "stdout",
          "text": [
            "Welcome to the Currency Converter! Do you want to see the country names to their corresponding currency abbreviations that are commonly used in forex trading? (please answer as 'yes' or 'no'): yes\n",
            "{'United States': 'USD', 'Japan': 'JPY', 'United Kingdom': 'GBP', 'European Union': 'EUR', 'Switzerland': 'CHF', 'Australia': 'AUD', 'Canada': 'CAD', 'New Zealand': 'NZD', 'China': 'CNY', 'Hong Kong': 'HKD', 'South Korea': 'KRW', 'India': 'INR', 'Russia': 'RUB', 'Brazil': 'BRL', 'Mexico': 'MXN', 'South Africa': 'ZAR', 'Turkey': 'TRY'}\n",
            "Enter the amount you want to convert: 500\n",
            "Enter the currency you want to convert from: uSd\n",
            "Enter the currency you want to convert to: TrY\n",
            "USD 500.00 is equal to TRY 9554.15\n"
          ]
        }
      ],
      "source": [
        "# !pip install forex_python\n",
        "from forex_python.converter import CurrencyRates\n",
        "\n",
        "# A dictionary of commonly used currency abbreviations\n",
        "currency_symbols = {\n",
        "    \"United States\": \"USD\",\n",
        "    \"Japan\": \"JPY\",\n",
        "    \"United Kingdom\": \"GBP\",\n",
        "    \"European Union\": \"EUR\",\n",
        "    \"Switzerland\": \"CHF\",\n",
        "    \"Australia\": \"AUD\",\n",
        "    \"Canada\": \"CAD\",\n",
        "    \"New Zealand\": \"NZD\",\n",
        "    \"China\": \"CNY\",\n",
        "    \"Hong Kong\": \"HKD\",\n",
        "    \"South Korea\": \"KRW\",\n",
        "    \"India\": \"INR\",\n",
        "    \"Russia\": \"RUB\",\n",
        "    \"Brazil\": \"BRL\",\n",
        "    \"Mexico\": \"MXN\",\n",
        "    \"South Africa\": \"ZAR\",\n",
        "    \"Turkey\": \"TRY\"\n",
        "}\n",
        "\n",
        "ans=input(\"Welcome to the Currency Converter! Do you want to see the country names to their corresponding currency abbreviations that are commonly used in forex trading? (please answer as 'yes' or 'no'): \")\n",
        "\n",
        "if ans == \"yes\":\n",
        " print(currency_symbols)\n",
        "\n",
        "# Create an object of CurrencyRates class\n",
        "c = CurrencyRates()\n",
        "\n",
        "# Get the amount and currencies\n",
        "amount = float(input(\"Enter the amount you want to convert: \"))\n",
        "from_currency = input(\"Enter the currency you want to convert from: \").upper()\n",
        "to_currency = input(\"Enter the currency you want to convert to: \").upper()\n",
        "\n",
        "# Use \"convert\" method for currency conversion\n",
        "result = c.convert(from_currency, to_currency, amount)\n",
        "\n",
        "print(f\"{from_currency} {amount:.2f} is equal to {to_currency} {result:.2f}\")\n"
      ]
    }
  ]
}